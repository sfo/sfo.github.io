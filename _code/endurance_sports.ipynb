{
 "cells": [
  {
   "cell_type": "code",
   "execution_count": null,
   "metadata": {},
   "outputs": [],
   "source": [
    "import requests\n",
    "import seaborn as sns\n",
    "import json\n",
    "from matplotlib import pyplot as plt\n",
    "from matplotlib.ticker import FuncFormatter\n",
    "import pandas as pd\n",
    "import operator"
   ]
  },
  {
   "cell_type": "code",
   "execution_count": null,
   "metadata": {},
   "outputs": [],
   "source": [
    "def seconds_to_mhs(sec: int) -> str:\n",
    "    return f\"{sec // 3600:02.0f}:{(sec % 3600) // 60:02.0f}:{(sec % 3600) % 60:02.0f}\"\n",
    "\n",
    "def find(path, dict, sep=\"/\"):\n",
    "    keys = path.split(sep)\n",
    "    rv = dict\n",
    "    for key in keys:\n",
    "        rv = rv[key]\n",
    "    return rv"
   ]
  },
  {
   "cell_type": "code",
   "execution_count": null,
   "metadata": {},
   "outputs": [],
   "source": [
    "# Adventure Walk 2024 - 50 km\n",
    "# base_url = 'https://my1.raceresult.com/266144/RRPublish/data/list?key=cbb56f3829f252176e762b342c83e242&listname=Ergebnislisten%7CErgebnisliste%20-%2050k&page=results&contest=0&r=all&l=0'\n",
    "\n",
    "# Adventure Walk 2024 - 30 km\n",
    "# base_url = 'https://my1.raceresult.com/266144/RRPublish/data/list?key=cbb56f3829f252176e762b342c83e242&listname=Ergebnislisten%7CErgebnisliste%20-%2025k&page=results&contest=0&r=all&l=0'\n",
    "\n",
    "# Dresden Marathon 2024 - \"Allgemein - Ergebnisliste Männer/Frauen\"\n",
    "# base_url = \"https://my2.raceresult.com/270281/RRPublish/data/list?key=aaee10feb460178330e3e6495129af10&listname=Ergebnislisten%7CErgebnisliste%20M%C3%A4nner%2FFrauen&page=results&contest=0&r=all&l=0\"\n",
    "\n",
    "# SachsenTrail 2024 - \"UltraTrail (75,5 km & 2120 Höhenmeter)\"\n",
    "base_url = \"https://my1.raceresult.com/250768/RRPublish/data/list?key=adf2c8d4f3db7f4f7113e197b3bd20de&listname=Ergebnislisten%7CErgebnisliste&page=results&contest=1\"\n",
    "\n",
    "# REWE Team Challenge 2024 - \"Einzelwertung Männer\"\n",
    "# base_url = \"https://my4.raceresult.com/290895/RRPublish/data/list?key=6630ea4ed4b803531ec88084f95a5eff&listname=Ergebnislisten%7CInternet-einzel%20-%20M%C3%A4nner&page=results&contest=1\"\n",
    "\n",
    "response = requests.get(f\"{base_url}\")"
   ]
  },
  {
   "cell_type": "code",
   "execution_count": null,
   "metadata": {},
   "outputs": [],
   "source": [
    "data = json.loads(response.text)"
   ]
  },
  {
   "cell_type": "code",
   "execution_count": null,
   "metadata": {},
   "outputs": [],
   "source": [
    "def print_filters(group_filter_dict, max_level, current_level):\n",
    "    if current_level == 0:\n",
    "        return\n",
    "    for key in group_filter_dict.keys():\n",
    "        print((max_level - current_level) * \"  \", key)\n",
    "        print_filters(group_filter_dict[key], max_level, current_level-1)\n",
    "\n",
    "filter_level_count = len(data['groupFilters'])\n",
    "print(\"There are\", filter_level_count, \"levels of filter.\")\n",
    "print(\"available competitions and potential sub-groups:\")\n",
    "print_filters(data['data'], filter_level_count, filter_level_count)"
   ]
  },
  {
   "cell_type": "code",
   "execution_count": null,
   "metadata": {},
   "outputs": [],
   "source": [
    "# for REWE Team Challenge\n",
    "columns = [\"id\"] + [field[\"Label\"].lower() for field in data[\"list\"][\"Fields\"]]\n",
    "print(\"Columns:\", columns)\n",
    "\n",
    "clss = \"#1_Männer\"\n",
    "\n",
    "data_path = clss\n",
    "my_name = \"Stanley Förster\""
   ]
  },
  {
   "cell_type": "code",
   "execution_count": null,
   "metadata": {},
   "outputs": [],
   "source": [
    "# for Sachsen Trail 2024\n",
    "columns = [\"id\"] + [field[\"Label\"].lower() for field in data[\"list\"][\"Fields\"][:-1]]\n",
    "print(\"Columns:\", columns)\n",
    "\n",
    "competition = \"#1_UltraTrail (75,5 km & 2120 Höhenmeter)\"\n",
    "clss = \"#2_Männer\"\n",
    "# clss = \"#1_Frauen\n",
    "\n",
    "data_path = f\"{competition}/{clss}\"\n",
    "my_name = None"
   ]
  },
  {
   "cell_type": "code",
   "execution_count": null,
   "metadata": {},
   "outputs": [],
   "source": [
    "# for Dresden Marathon 2024\n",
    "columns = [\"id\"] + [field[\"Label\"].lower() for field in data[\"list\"][\"Fields\"][:-2]]\n",
    "\n",
    "# competition = \"#1_{DE:AOK-Viertelmarathon (10,55 km)|EN:AOK Quarter marathon (10.55 k)|CZ:čtvrtmaraton (10,55 km)}\"\n",
    "# clss = \"#1_Männer\"\n",
    "# clss = \"#2_Frauen\"\n",
    "\n",
    "# competition = \"#2_{DE:Halbmarathon|EN:half marathon|CZ:půlmaraton}\"\n",
    "# clss = \"#3_Männer\"\n",
    "# clss = \"#4_Frauen\"\n",
    "\n",
    "competition = \"#3_{DE:Marathon|EN:marathon|CZ:maratón}\"\n",
    "clss = \"#5_Männer\"\n",
    "# clss = \"#6_Frauen\"\n",
    "\n",
    "# competition = \"#4_{DE:Sparkassen Zehntelmarathon (4,2 km)|EN:Sparkassen 1/10 marathon (4,2km)|CZ:desátýmaratón (4,2 km)}\"\n",
    "# clss = \"#7_Männer\"\n",
    "# clss = \"#8_Frauen\"\n",
    "\n",
    "data_path = f\"{competition}/{clss}\"\n",
    "my_name = \"FÖRSTER, Stanley\""
   ]
  },
  {
   "cell_type": "code",
   "execution_count": null,
   "metadata": {},
   "outputs": [],
   "source": [
    "col_time = \"zeit\"\n",
    "df = (\n",
    "    pd.concat(\n",
    "        [\n",
    "            pd.DataFrame(values[: len(columns)], index=columns).T\n",
    "            for values in find(data_path, data[\"data\"])\n",
    "        ]\n",
    "    )\n",
    "    .reset_index(drop=True)\n",
    "    .assign(\n",
    "        time=lambda df: pd.to_timedelta(df[col_time]),\n",
    "        seconds=lambda df: df[\"time\"].dt.total_seconds(),\n",
    "    )\n",
    ")"
   ]
  },
  {
   "cell_type": "code",
   "execution_count": null,
   "metadata": {},
   "outputs": [],
   "source": [
    "# for Adventure Walk 2024 - here, the \"classes\" are groups of people by first letter of the name ...\n",
    "idx_starter_id = 0\n",
    "idx_name = 1\n",
    "idx_time = 2\n",
    "\n",
    "my_name = \"Förster, Stanley\"\n",
    "df = pd.concat([\n",
    "    pd.DataFrame(values, columns=['id', 'name', 'time', 'misc']) for _, values in list(data['data'].values())[0].items()\n",
    "]).reset_index(drop=True).assign(time=lambda df: pd.to_timedelta(df['time']), seconds=lambda df: df['time'].dt.total_seconds())"
   ]
  },
  {
   "cell_type": "code",
   "execution_count": null,
   "metadata": {},
   "outputs": [],
   "source": [
    "# TODO - allow adding arbitrary names and improve markings\n",
    "# TODO - visualize quartiles via background shading\n",
    "with plt.style.context(\"bmh\"):\n",
    "    sns.histplot(\n",
    "        data=df,\n",
    "        x='seconds',\n",
    "    )\n",
    "\n",
    "    my_record = {\n",
    "        \"my\": records.iloc[0]['seconds'],  # TODO - better go with bib number instead of name\n",
    "    } if len(records := df.query(\"name == @my_name\")) > 0 else {}\n",
    "\n",
    "    palette = sns.color_palette(\"bright\")\n",
    "    for i, (prefix, value) in enumerate(dict({\n",
    "        \"min\": df['seconds'].min(),\n",
    "        \"median\": df['seconds'].median(),\n",
    "        \"max\": df['seconds'].max(),\n",
    "    } | my_record).items()):\n",
    "        plt.axvline(\n",
    "            value,\n",
    "            label=f\"{prefix}: {seconds_to_mhs(value)}\",\n",
    "            color=palette[1+i],\n",
    "        )\n",
    "    ax = plt.gca()\n",
    "    ax.tick_params(axis='x', labelrotation=30)\n",
    "    ax.xaxis.set_major_formatter(FuncFormatter(func=lambda x, pos: seconds_to_mhs(x)))\n",
    "    plt.xlabel(\"Time\")\n",
    "    plt.ylabel(f\"Participants (total = {len(df)})\")\n",
    "    plt.title(f\"{data['list']['HeadLine1']}\")\n",
    "\n",
    "    plt.legend()\n",
    "    plt.show()"
   ]
  },
  {
   "cell_type": "code",
   "execution_count": null,
   "metadata": {},
   "outputs": [],
   "source": []
  }
 ],
 "metadata": {
  "kernelspec": {
   "display_name": "phd_py311_tf215",
   "language": "python",
   "name": "python3"
  },
  "language_info": {
   "codemirror_mode": {
    "name": "ipython",
    "version": 3
   },
   "file_extension": ".py",
   "mimetype": "text/x-python",
   "name": "python",
   "nbconvert_exporter": "python",
   "pygments_lexer": "ipython3",
   "version": "3.11.9"
  }
 },
 "nbformat": 4,
 "nbformat_minor": 2
}
