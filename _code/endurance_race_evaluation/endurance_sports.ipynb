{
 "cells": [
  {
   "cell_type": "code",
   "execution_count": null,
   "metadata": {},
   "outputs": [],
   "source": [
    "import requests\n",
    "import seaborn as sns\n",
    "import json\n",
    "from matplotlib import pyplot as plt\n",
    "from matplotlib.ticker import FuncFormatter\n",
    "import pandas as pd\n",
    "import operator"
   ]
  },
  {
   "cell_type": "code",
   "execution_count": null,
   "metadata": {},
   "outputs": [],
   "source": [
    "def seconds_to_mhs(sec: int) -> str:\n",
    "    return f\"{sec // 3600:02.0f}:{(sec % 3600) // 60:02.0f}:{(sec % 3600) % 60:02.0f}\""
   ]
  },
  {
   "cell_type": "code",
   "execution_count": null,
   "metadata": {},
   "outputs": [],
   "source": [
    "def find(path, dict, sep=\"/\"):\n",
    "    keys = path.split(sep)\n",
    "    rv = dict\n",
    "    for key in keys:\n",
    "        rv = rv[key]\n",
    "    return rv"
   ]
  },
  {
   "cell_type": "code",
   "execution_count": null,
   "metadata": {},
   "outputs": [],
   "source": [
    "def parse_classes(data):\n",
    "    filter_level_count = len(data['groupFilters'])\n",
    "    assert filter_level_count == 2\n",
    "    return [\n",
    "        {\n",
    "            \"name\": competition,\n",
    "            \"classes\": [\n",
    "                clss for clss in data['data'][competition].keys()\n",
    "            ]\n",
    "        } for competition in data['data'].keys()\n",
    "    ]"
   ]
  },
  {
   "cell_type": "code",
   "execution_count": null,
   "metadata": {},
   "outputs": [],
   "source": [
    "def deduplicate_columns(cols):\n",
    "    counts = {}\n",
    "    new_cols = []\n",
    "    for col in cols:\n",
    "        if col not in counts:\n",
    "            counts[col] = 1\n",
    "            new_cols.append(col if col else \"_empty\")\n",
    "        else:\n",
    "            counts[col] += 1\n",
    "            suffix = f\"_{counts[col]}\"\n",
    "            new_cols.append((col if col else \"_empty\") + suffix)\n",
    "    return new_cols"
   ]
  },
  {
   "cell_type": "code",
   "execution_count": null,
   "metadata": {},
   "outputs": [],
   "source": [
    "# Adventure Walk 2024 - 50 km\n",
    "# base_url = 'https://my1.raceresult.com/266144/RRPublish/data/list?key=cbb56f3829f252176e762b342c83e242&listname=Ergebnislisten%7CErgebnisliste%20-%2050k&page=results&contest=0&r=all&l=0'\n",
    "\n",
    "# Adventure Walk 2024 - 30 km\n",
    "# base_url = 'https://my1.raceresult.com/266144/RRPublish/data/list?key=cbb56f3829f252176e762b342c83e242&listname=Ergebnislisten%7CErgebnisliste%20-%2025k&page=results&contest=0&r=all&l=0'\n",
    "\n",
    "# Dresden Marathon 2024 - \"Allgemein - Ergebnisliste Männer/Frauen\"\n",
    "# base_url = \"https://my2.raceresult.com/270281/RRPublish/data/list?key=aaee10feb460178330e3e6495129af10&listname=Ergebnislisten%7CErgebnisliste%20M%C3%A4nner%2FFrauen&page=results&contest=0&r=all&l=0\"\n",
    "\n",
    "# SachsenTrail 2024 - \"UltraTrail (75,5 km & 2120 Höhenmeter)\"\n",
    "# base_url = \"https://my1.raceresult.com/250768/RRPublish/data/list?key=adf2c8d4f3db7f4f7113e197b3bd20de&listname=Ergebnislisten%7CErgebnisliste&page=results&contest=1\"\n",
    "\n",
    "# REWE Team Challenge 2024 - \"Einzelwertung Männer\"\n",
    "# base_url = \"https://my4.raceresult.com/290895/RRPublish/data/list?key=6630ea4ed4b803531ec88084f95a5eff&listname=Ergebnislisten%7CInternet-einzel%20-%20M%C3%A4nner&page=results&contest=1\"\n",
    "\n",
    "# Citylauf Dresden 2024\n",
    "# 10 km - MW\n",
    "# base_url = \"https://my4.raceresult.com/237685/RRPublish/data/list?key=b9feceede839e8e31f71896918960f3f&listname=Ergebnislisten%7CErgebnisliste%20MW%2010k&page=results&contest=0\"\n",
    "\n",
    "# Citylauf Dresden 2025\n",
    "# 10 km - MW\n",
    "# base_url = \"https://my4.raceresult.com/282939/RRPublish/data/list?key=a42658fead3a6ebf79e80ec0f57efd77&listname=Ergebnislisten%7CErgebnisliste%20MW%2010k&page=results&contest=0\"\n",
    "# 10 km - AK\n",
    "# base_url = \"https://my4.raceresult.com/282939/RRPublish/data/list?key=a42658fead3a6ebf79e80ec0f57efd77&listname=Ergebnislisten%7CErgebnisliste%20AK%2010k&page=results&contest=0\"\n",
    "# 5 km\n",
    "# base_url = \"https://my4.raceresult.com/282939/RRPublish/data/list?key=a42658fead3a6ebf79e80ec0f57efd77&listname=Ergebnislisten%7CErgebnisliste%20MW&page=results&contest=5\"\n",
    "\n",
    "# Oberelbe Marathon 2025\n",
    "# Marathon\n",
    "# base_url = \"https://my4.raceresult.com/287523/RRPublish/data/list?key=d776d822cec71a9519b62eae8673d35c&listname=01%20-%20Ergebnislisten%7CErgebnisliste%20MW&page=results&contest=4\"\n",
    "\n",
    "# Nachtlauf 2025\n",
    "base_url = \"https://my4.raceresult.com/303827/RRPublish/data/list?key=c536a57d60ea0bec6f70c5b346f5eb90&listname=Ergebnislisten%7CErgebnisliste%20MW&page=results&contest=0&r=all&l=0\"\n",
    "\n",
    "response = requests.get(f\"{base_url}\")"
   ]
  },
  {
   "cell_type": "code",
   "execution_count": null,
   "metadata": {},
   "outputs": [],
   "source": [
    "data = json.loads(response.text)"
   ]
  },
  {
   "cell_type": "code",
   "execution_count": null,
   "metadata": {},
   "outputs": [],
   "source": [
    "# for Nachtlauf 2025\n",
    "competitions = parse_classes(data)\n",
    "\n",
    "# TODO - this seems not to match the actual order\n",
    "# columns = [\"id\"] + [field[\"Label\"].lower() for field in data[\"list\"][\"Fields\"][:-1]]\n",
    "columns = [\"startnr\", \"id\", \"platz\", \"name\", \"platz ak\", \"ak\", \"verein\", \"zeit\"]\n",
    "competition = \"#2_11,5km\"\n",
    "clss = \"#3_Männer\"\n",
    "\n",
    "my_name = \"Stanley Förster\""
   ]
  },
  {
   "cell_type": "code",
   "execution_count": null,
   "metadata": {},
   "outputs": [],
   "source": [
    "# for Oberelbe Marathon 2025\n",
    "columns = [\"\", \"id\"] + [field[\"Label\"].lower() for field in data[\"list\"][\"Fields\"][:-1]]\n",
    "competitions = parse_classes(data)\n",
    "my_name = \"Stanley Förster\""
   ]
  },
  {
   "cell_type": "code",
   "execution_count": null,
   "metadata": {},
   "outputs": [],
   "source": [
    "# for Citylauf 2025\n",
    "columns = [\"\", \"id\"] + [field[\"Label\"].lower() for field in data[\"list\"][\"Fields\"][:-1]]\n",
    "print(\"Columns:\", columns)\n",
    "\n",
    "competition = \"#1_10 km\"\n",
    "# competition = \"#1_5 km Lauf\"\n",
    "clss = \"#2_Männer\"\n",
    "# clss = \"#1_Frauen\n",
    "\n",
    "data_path = f\"{competition}/{clss}\"\n",
    "my_name = \"Stanley Förster\""
   ]
  },
  {
   "cell_type": "code",
   "execution_count": null,
   "metadata": {},
   "outputs": [],
   "source": [
    "# for Sachsen Trail 2024\n",
    "columns = [\"id\"] + [field[\"Label\"].lower() for field in data[\"list\"][\"Fields\"][:-1]]\n",
    "competitions = parse_classes(data)\n",
    "my_name = None"
   ]
  },
  {
   "cell_type": "code",
   "execution_count": null,
   "metadata": {},
   "outputs": [],
   "source": [
    "# for Dresden Marathon 2024\n",
    "columns = [\"id\"] + [field[\"Label\"].lower() for field in data[\"list\"][\"Fields\"][:-2]]\n",
    "\n",
    "competitions = [\n",
    "    {\n",
    "        \"name\": \"#1_{DE:AOK-Viertelmarathon (10,55 km)|EN:AOK Quarter marathon (10.55 k)|CZ:čtvrtmaraton (10,55 km)}\",\n",
    "        \"classes\": [\n",
    "            \"#1_Männer\",\n",
    "            \"#2_Frauen\"\n",
    "        ]\n",
    "    },\n",
    "    {\n",
    "        \"name\": \"#2_{DE:Halbmarathon|EN:half marathon|CZ:půlmaraton}\",\n",
    "        \"classes\": [\n",
    "            \"#3_Männer\",\n",
    "            \"#4_Frauen\"\n",
    "        ]\n",
    "    },\n",
    "    {\n",
    "        \"name\": \"#3_{DE:Marathon|EN:marathon|CZ:maratón}\",\n",
    "        \"classes\": [\n",
    "            \"#5_Männer\",\n",
    "            \"#6_Frauen\"\n",
    "        ]\n",
    "    },\n",
    "    {\n",
    "        \"name\": \"#4_{DE:Sparkassen Zehntelmarathon (4,2 km)|EN:Sparkassen 1/10 marathon (4,2km)|CZ:desátýmaratón (4,2 km)}\",\n",
    "        \"classes\": [\n",
    "            \"#7_Männer\",\n",
    "            \"#8_Frauen\"\n",
    "        ]\n",
    "    }\n",
    "]\n",
    "\n",
    "my_name = \"FÖRSTER, Stanley\""
   ]
  },
  {
   "cell_type": "code",
   "execution_count": null,
   "metadata": {},
   "outputs": [],
   "source": [
    "def parse_results(competition, clss):\n",
    "    data_path = f\"{competition}/{clss}\"\n",
    "    return pd.concat(\n",
    "        [\n",
    "            pd.DataFrame(values[: len(columns)], index=columns).T.assign(\n",
    "                competition=competition, clss=clss\n",
    "            )\n",
    "            for values in find(data_path, data[\"data\"])\n",
    "        ]\n",
    "    )\n",
    "\n",
    "\n",
    "col_time = \"zeit\"\n",
    "df = (\n",
    "    pd.concat(\n",
    "        [\n",
    "            parse_results(competition[\"name\"], clss)\n",
    "            for competition in competitions\n",
    "            for clss in competition[\"classes\"]\n",
    "        ]\n",
    "    )\n",
    "    .reset_index(drop=True)\n",
    "    .assign(\n",
    "        time=lambda df: pd.to_timedelta(\n",
    "            df[col_time].apply(\n",
    "                # Add '00:' prefix to entries with only two segments (MM:SS)\n",
    "                lambda x: f\"00:{x}\" if len(x.split(\":\")) == 2 else x\n",
    "            ),\n",
    "            errors=\"coerce\",\n",
    "        ),\n",
    "        seconds=lambda df: df[\"time\"].dt.total_seconds(),\n",
    "    )\n",
    ")"
   ]
  },
  {
   "cell_type": "code",
   "execution_count": null,
   "metadata": {},
   "outputs": [],
   "source": [
    "# for Adventure Walk 2024 - here, the \"classes\" are groups of people by first letter of the name ...\n",
    "\n",
    "idx_starter_id = 0\n",
    "idx_name = 1\n",
    "idx_time = 2\n",
    "\n",
    "my_name = \"Förster, Stanley\"\n",
    "df = pd.concat([\n",
    "    pd.DataFrame(values, columns=['id', 'name', 'time', 'misc']) for _, values in list(data['data'].values())[0].items()\n",
    "]).reset_index(drop=True).assign(time=lambda df: pd.to_timedelta(df['time']), seconds=lambda df: df['time'].dt.total_seconds())"
   ]
  },
  {
   "cell_type": "code",
   "execution_count": null,
   "metadata": {},
   "outputs": [],
   "source": [
    "df.columns = deduplicate_columns(df.columns)\n",
    "df"
   ]
  },
  {
   "cell_type": "code",
   "execution_count": null,
   "metadata": {},
   "outputs": [],
   "source": [
    "# TODO - allow adding arbitrary names and improve markings\n",
    "# TODO - visualize quartiles via background shading\n",
    "# TODO - split by competition and class\n",
    "def plot(df, my_name):\n",
    "    with plt.style.context(\"bmh\"):\n",
    "        plt.figure(figsize=(20,5))\n",
    "        ax = sns.histplot(\n",
    "            data=df,\n",
    "            x='seconds',\n",
    "            hue=\"clss\",\n",
    "            multiple=\"stack\",\n",
    "            binwidth=3*60, # in seconds\n",
    "            legend=True,\n",
    "        )\n",
    "\n",
    "        my_record = {\n",
    "            \"my\": records.iloc[0]['seconds'],  # TODO - better go with bib number instead of name\n",
    "        } if len(records := df.query(\"name == @my_name\")) > 0 else {}\n",
    "\n",
    "        palette = sns.color_palette(\"bright\")\n",
    "        for i, (prefix, value) in enumerate(dict({\n",
    "            \"min\": df['seconds'].min(),\n",
    "            \"median\": df['seconds'].median(),\n",
    "            \"mean\": df['seconds'].mean(),\n",
    "            \"max\": df['seconds'].max(),\n",
    "        } | my_record).items()):\n",
    "            plt.axvline(\n",
    "                value,\n",
    "                label=f\"{prefix}: {seconds_to_mhs(value)}\",\n",
    "                color=palette[1+i],\n",
    "            )\n",
    "        ax.tick_params(axis='x', labelrotation=30)\n",
    "        ax.xaxis.set_major_formatter(FuncFormatter(func=lambda x, pos: seconds_to_mhs(x)))\n",
    "        ax.set_xlabel(\"Time\")\n",
    "        ax.set_ylabel(f\"\"\"Participants (total = {len(df)})\"\"\") #, DNF = {len(df.query('`_empty` == \"DNF\"'))})\"\"\")\n",
    "        ax.set_title(f\"{data['list']['HeadLine1']}\")\n",
    "\n",
    "        ax.legend()\n",
    "    plt.show()\n",
    "\n",
    "plot(df, my_name)"
   ]
  }
 ],
 "metadata": {
  "kernelspec": {
   "display_name": "endurance-race-evaluation (3.13.3)",
   "language": "python",
   "name": "python3"
  },
  "language_info": {
   "codemirror_mode": {
    "name": "ipython",
    "version": 3
   },
   "file_extension": ".py",
   "mimetype": "text/x-python",
   "name": "python",
   "nbconvert_exporter": "python",
   "pygments_lexer": "ipython3",
   "version": "3.13.3"
  }
 },
 "nbformat": 4,
 "nbformat_minor": 2
}
