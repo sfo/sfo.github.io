{
 "cells": [
  {
   "cell_type": "code",
   "execution_count": 1,
   "metadata": {},
   "outputs": [],
   "source": [
    "import berserk\n",
    "import dotenv\n",
    "import logging\n",
    "import os"
   ]
  },
  {
   "cell_type": "code",
   "execution_count": 2,
   "metadata": {},
   "outputs": [],
   "source": [
    "if not dotenv.load_dotenv():\n",
    "    logging.error(\"Could not load environment file!\")"
   ]
  },
  {
   "cell_type": "code",
   "execution_count": 3,
   "metadata": {},
   "outputs": [
    {
     "data": {
      "text/plain": [
       "'lip_9nTTSLY2i6W6djtuUC7q'"
      ]
     },
     "execution_count": 3,
     "metadata": {},
     "output_type": "execute_result"
    }
   ],
   "source": [
    "API_TOKEN = os.environ['LICHESS_API_TOKEN']\n",
    "session = berserk.TokenSession(API_TOKEN)\n",
    "client = berserk.Client(session=session)\n",
    "API_TOKEN"
   ]
  },
  {
   "cell_type": "code",
   "execution_count": 5,
   "metadata": {},
   "outputs": [],
   "source": [
    "# one of:\n",
    "berserk.types.common.PerfType\n",
    "users = client.users.get_leaderboard(\"classical\")"
   ]
  },
  {
   "cell_type": "code",
   "execution_count": 6,
   "metadata": {},
   "outputs": [
    {
     "data": {
      "text/plain": [
       "[{'id': 'homabiorkro',\n",
       "  'username': 'HomabiorKro',\n",
       "  'perfs': {'classical': {'rating': 2602, 'progress': 27}}},\n",
       " {'id': 'strategyforchess',\n",
       "  'username': 'strategyforchess',\n",
       "  'perfs': {'classical': {'rating': 2585, 'progress': 37}}},\n",
       " {'id': 'sharkfang',\n",
       "  'username': 'Sharkfang',\n",
       "  'perfs': {'classical': {'rating': 2550, 'progress': 27}},\n",
       "  'patron': True},\n",
       " {'id': 'ragehunter',\n",
       "  'username': 'Ragehunter',\n",
       "  'perfs': {'classical': {'rating': 2507, 'progress': 82}},\n",
       "  'title': 'FM'},\n",
       " {'id': 'igormezentsev',\n",
       "  'username': 'igormezentsev',\n",
       "  'perfs': {'classical': {'rating': 2496, 'progress': 3}},\n",
       "  'title': 'FM',\n",
       "  'online': True},\n",
       " {'id': 'a_splendidwinner',\n",
       "  'username': 'a_splendidwinner',\n",
       "  'perfs': {'classical': {'rating': 2493, 'progress': -42}}},\n",
       " {'id': 'slowerly',\n",
       "  'username': 'slowerly',\n",
       "  'perfs': {'classical': {'rating': 2490, 'progress': 88}}},\n",
       " {'id': 'kc6',\n",
       "  'username': 'kc6',\n",
       "  'perfs': {'classical': {'rating': 2478, 'progress': 16}},\n",
       "  'title': 'IM'},\n",
       " {'id': 'ojaijoao',\n",
       "  'username': 'OjaiJoao',\n",
       "  'perfs': {'classical': {'rating': 2476, 'progress': -41}},\n",
       "  'title': 'FM'},\n",
       " {'id': 'alp_arslan92',\n",
       "  'username': 'alp_arslan92',\n",
       "  'perfs': {'classical': {'rating': 2439, 'progress': 2}},\n",
       "  'patron': True}]"
      ]
     },
     "execution_count": 6,
     "metadata": {},
     "output_type": "execute_result"
    }
   ],
   "source": [
    "users"
   ]
  }
 ],
 "metadata": {
  "kernelspec": {
   "display_name": "scraping",
   "language": "python",
   "name": "python3"
  },
  "language_info": {
   "codemirror_mode": {
    "name": "ipython",
    "version": 3
   },
   "file_extension": ".py",
   "mimetype": "text/x-python",
   "name": "python",
   "nbconvert_exporter": "python",
   "pygments_lexer": "ipython3",
   "version": "3.11.8"
  }
 },
 "nbformat": 4,
 "nbformat_minor": 2
}
