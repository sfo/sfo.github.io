{
 "cells": [
  {
   "cell_type": "markdown",
   "metadata": {},
   "source": [
    "---\n",
    "title: \"30 Day Map Challenge 2024 - Day 8: Humanitarian Data Exchange (HDX)\"\n",
    "categories:\n",
    "  - Project\n",
    "tags:\n",
    "  - 30daymapchallenge\n",
    "  - python\n",
    "  - programming\n",
    "classes: wide\n",
    "header:\n",
    "  teaser: /assets/images/30daymapchallenge2024-day8.png\n",
    "---"
   ]
  },
  {
   "cell_type": "markdown",
   "metadata": {},
   "source": [
    "The eighth day requires to use a specific data source - _Humanitarian Data Exchange (HDX)_:\n",
    "> Use data from HDX to map humanitarian topics. Explore the datasets from the Humanitarian Data Exchange, covering disaster response, health, population, and development. Map for social good."
   ]
  },
  {
   "cell_type": "markdown",
   "metadata": {},
   "source": [
    "### Data\n"
   ]
  },
  {
   "cell_type": "markdown",
   "metadata": {},
   "source": [
    "## Implementation"
   ]
  },
  {
   "cell_type": "markdown",
   "metadata": {},
   "source": [
    "The necessary imports include the usual mapping and data handling libraries.\n",
    "`geopy` provides an abstraction to convenientky access the [Nominatim](https://nominatim.org/) API that uses OpenStreetMap data to retrieve a city's coordinates by name."
   ]
  },
  {
   "cell_type": "code",
   "execution_count": null,
   "metadata": {},
   "outputs": [],
   "source": [
    "from pathlib import Path\n",
    "import cartopy.crs as ccrs\n",
    "import cartopy.io.img_tiles as cimgt\n",
    "import cartopy.feature as cfeature\n",
    "import pycountry\n",
    "import matplotlib.pyplot as plt\n",
    "import pandas as pd\n",
    "from geopy.geocoders import Nominatim\n",
    "from matplotlib.patches import FancyArrowPatch"
   ]
  },
  {
   "cell_type": "markdown",
   "metadata": {},
   "source": [
    "First, we have to get the location of each of the cities on the journey, store it in a pandas `DataFrame`.\n",
    "Additionally, we add two columns that hold the next destination, which makes drawing the connections much easier when creating the map."
   ]
  },
  {
   "cell_type": "code",
   "execution_count": null,
   "metadata": {},
   "outputs": [],
   "source": [
    "data_path = Path(\"data/hdx/end_year_population_totals_residing_deu.csv\")\n",
    "df = (\n",
    "    pd.read_csv(data_path, header=[0, 1])\n",
    "    .droplevel(1, axis=\"columns\")\n",
    "    .query(\"Year == 2023\")\n",
    "    .set_index(\"Country of Origin Code\")\n",
    "    .assign(\n",
    "        alpha_2=lambda df: df.apply(\n",
    "            lambda row: (\n",
    "                c.alpha_2 if (c := pycountry.countries.get(alpha_3=row.name)) else None\n",
    "            ),\n",
    "            axis=\"columns\",\n",
    "        )\n",
    "    )\n",
    ")"
   ]
  },
  {
   "cell_type": "code",
   "execution_count": null,
   "metadata": {},
   "outputs": [],
   "source": [
    "df.head(3)"
   ]
  },
  {
   "cell_type": "code",
   "execution_count": null,
   "metadata": {},
   "outputs": [],
   "source": [
    "cache_path = Path(\"data/cache\")\n",
    "cache_path.mkdir(parents=True, exist_ok=True)\n",
    "cache_file_path = cache_path / (data_path.stem + \"_locations.csv\")\n",
    "\n",
    "geolocator = Nominatim(user_agent=\"30daymapchallenge\")\n",
    "\n",
    "def locate(alpha_2: str):\n",
    "    try:\n",
    "        result = geolocator.geocode({\"country\": alpha_2})\n",
    "        if result is None:\n",
    "            print(f\"Failed to geolocate country {alpha_2} by alpha 2 code, trying alpha 3 ...\")\n",
    "            result = geolocator.geocode({\"country\": pycountry.countries.get(alpha_2=alpha_2).alpha_3})\n",
    "        if result is None:\n",
    "            print(f\"Failed to geolocate country {alpha_2} by alpha 3 code, trying by official name ...\")\n",
    "            result = geolocator.geocode(pycountry.countries.get(alpha_2=alpha_2).official_name)\n",
    "        if result is None:\n",
    "            print(f\"Failed to geolocate country {alpha_2} by official name code, trying by generic name ...\")\n",
    "            result = geolocator.geocode(pycountry.countries.get(alpha_2=alpha_2).name)\n",
    "        if result is None:\n",
    "            print(f\"Finally failed to geolocate country {alpha_2}\")\n",
    "        return result\n",
    "    except TimeoutError as _:\n",
    "        print(f\"Timeout while geolocating country {alpha_2}\")\n",
    "        return None\n",
    "    except LookupError as _:\n",
    "        print(f\"Lookup error while geolocating country {alpha_2}\")\n",
    "        return None\n",
    "\n",
    "\n",
    "use_cache = True\n",
    "override_cache = True\n",
    "\n",
    "if use_cache and cache_file_path.exists():\n",
    "    locations = pd.read_csv(cache_file_path).set_index(\"country\")\n",
    "else:\n",
    "    locations = pd.DataFrame(\n",
    "        [\n",
    "            {\"country\": country, \"latitude\": location.latitude, \"longitude\": location.longitude}\n",
    "            for country in df['alpha_2'].unique()\n",
    "            if country and (location := locate(country)) is not None\n",
    "        ]\n",
    "    ).set_index(\"country\")\n",
    "    if override_cache or not cache_file_path.exists():\n",
    "        locations.to_csv(cache_file_path)"
   ]
  },
  {
   "cell_type": "code",
   "execution_count": null,
   "metadata": {},
   "outputs": [],
   "source": [
    "pd.merge(df, locations, left_on=['alpha_2'], right_index=True)"
   ]
  },
  {
   "cell_type": "code",
   "execution_count": null,
   "metadata": {},
   "outputs": [],
   "source": [
    "position_ger = geolocator.geocode({\"country\": \"DE\"})\n",
    "# projection = ccrs.AzimuthalEquidistant(central_latitude=position_ger.latitude, central_longitude=position_ger.longitude)\n",
    "projection = ccrs.EuroPP()\n",
    "\n",
    "fig = plt.figure(figsize=(20, 20))\n",
    "\n",
    "ax = fig.add_subplot(1, 1, 1, projection=projection)\n",
    "\n",
    "ax.set_global()\n",
    "\n",
    "ax.add_feature(cfeature.OCEAN)\n",
    "ax.add_feature(cfeature.LAND)\n",
    "ax.add_feature(cfeature.COASTLINE)\n",
    "ax.add_feature(cfeature.BORDERS)\n",
    "\n",
    "for country_code, country_data in df.iterrows():\n",
    "    if not country_data[\"alpha_2\"]:\n",
    "        continue\n",
    "\n",
    "    ax.plot(\n",
    "        [position_ger.longitude, locations.loc[country_data[\"alpha_2\"], 'longitude']],\n",
    "        [position_ger.latitude, locations.loc[country_data[\"alpha_2\"], 'latitude']],\n",
    "        lw=2,\n",
    "        # transform=ccrs.AzimuthalEquidistant(central_latitude=position_ger.latitude, central_longitude=position_ger.longitude),\n",
    "        transform=ccrs.Geodetic(),\n",
    "    )\n",
    "\n",
    "\n",
    "# for label, city in df.iterrows():\n",
    "#     ax.plot(\n",
    "#         city[\"longitude\"],\n",
    "#         city[\"latitude\"],\n",
    "#         marker=r\"$\\bigotimes$\",\n",
    "#         color=\"black\",\n",
    "#         markersize=16,\n",
    "#         transform=ccrs.Geodetic(),\n",
    "#     )\n",
    "\n",
    "#     ax.annotate(\n",
    "#         city[\"city\"],\n",
    "#         xy=(city[\"longitude\"], city[\"latitude\"]),\n",
    "#         xycoords=\"data\",\n",
    "#         xytext=offset_map[city[\"city\"]],\n",
    "#         textcoords=\"offset points\",\n",
    "#         fontsize=18,\n",
    "#         transform=ccrs.Geodetic(),\n",
    "#         color=\"white\" if city[\"city\"] == \"Dresden\" else \"black\",\n",
    "#         bbox=dict(\n",
    "#             boxstyle=\"round,pad=0.2\",\n",
    "#             fc=\"darkgreen\" if city[\"city\"] == \"Dresden\" else \"white\",\n",
    "#             ec=\"darkgreen\",\n",
    "#             lw=2,\n",
    "#         ),\n",
    "#     )\n",
    "\n",
    "#     if city.isnull().any():\n",
    "#         continue\n",
    "\n",
    "#     arrow = FancyArrowPatch(\n",
    "#         (city[\"longitude\"], city[\"latitude\"]),\n",
    "#         (city[\"dest_lon\"], city[\"dest_lat\"]),\n",
    "#         connectionstyle=\"arc3,rad=.1\",\n",
    "#         arrowstyle=\"Simple, head_width=12, head_length=8\",\n",
    "#         color=\"green\",\n",
    "#         shrinkA=15,\n",
    "#         shrinkB=15,\n",
    "#         lw=8,\n",
    "#     )\n",
    "#     patch = ax.add_patch(\n",
    "#         arrow,\n",
    "#     )\n",
    "#     patch.set_transform(ccrs.Geodetic())\n",
    "\n",
    "\n",
    "plt.show()"
   ]
  }
 ],
 "metadata": {
  "kernelspec": {
   "display_name": "30daymapchallenge",
   "language": "python",
   "name": "python3"
  },
  "language_info": {
   "codemirror_mode": {
    "name": "ipython",
    "version": 3
   },
   "file_extension": ".py",
   "mimetype": "text/x-python",
   "name": "python",
   "nbconvert_exporter": "python",
   "pygments_lexer": "ipython3",
   "version": "3.12.7"
  }
 },
 "nbformat": 4,
 "nbformat_minor": 2
}
