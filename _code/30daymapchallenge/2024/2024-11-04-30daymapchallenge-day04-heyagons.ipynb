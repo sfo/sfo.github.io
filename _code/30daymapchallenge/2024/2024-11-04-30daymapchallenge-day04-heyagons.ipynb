{
 "cells": [
  {
   "cell_type": "markdown",
   "metadata": {},
   "source": [
    "---\n",
    "title: \"30 Day Map Challenge 2024 - Day 4: Hexagons\"\n",
    "categories:\n",
    "  - Project\n",
    "tags:\n",
    "  - 30daymapchallenge\n",
    "  - python\n",
    "  - programming\n",
    "classes: wide\n",
    "header:\n",
    "  teaser: /assets/images/30daymapchallenge2024-day4.png\n",
    "---"
   ]
  },
  {
   "cell_type": "markdown",
   "metadata": {},
   "source": [
    "On day four, the theme is _Hexagons_:\n",
    "\n",
    "> Maps using hexagonal grids. Step away from square grids and try mapping with hexagons. A fun way to show density or spatial patterns."
   ]
  },
  {
   "cell_type": "markdown",
   "metadata": {},
   "source": [
    "### Data\n",
    "\n",
    "The idea for today is building a heatmap that visualizes the tree-density in the city.\n",
    "This does not include natural structures, like forests and parks.\n",
    "Therefore, the map shows hardly any tree on the area of _Dresden Heath_, which is one of the largest municipal forests in Germany.\n",
    "\n",
    "The OpenDataPortal gives the following explanation of the [data set](https://opendata.dresden.de/informationsportal/?open=1&result=8B5B50B7A6E746EB9DEB634A041F596E#app/mainpage) (translation by me):\n",
    "> Dresden is a city rich in trees with a great diversity of species. \n",
    "> Avenues and valuable trees in the parks, green spaces and gardens characterise the cityscape.\n",
    "> Trees make a significant contribution to the quality of life as they have a positive influence on the urban climate.\n",
    "> There are currently around 98,700 registered trees in urban areas.\n",
    "> These include street trees, trees in parks and green spaces, on playgrounds, on open spaces of educational institutions, along waterways of the 2nd order and on other municipal areas.\n",
    "> \n",
    "> In addition to the widely represented typical tree species such as lime, maple and chestnut, over 139 species and varieties of ginkgo, magnolia, leather tree and other rarer tree species grow in the urban area.\n",
    "\n",
    "<!-- For this, I will learn how to load GeoJson data from Dresden's OpenDataPortal.\n",
    "Up until now, I've been downloading CSV files from the platform.\n",
    "However, tree data is only available in GeoJson format.\n",
    "When [following the link](https://kommisdd.dresden.de/net4/public/ogcapi/collections/L1261) in a browser, only metadata is returned.\n",
    "So let's see, how we can get the full dataset of trees in the city. -->\n"
   ]
  },
  {
   "cell_type": "markdown",
   "metadata": {},
   "source": [
    "## Implementation"
   ]
  },
  {
   "cell_type": "markdown",
   "metadata": {},
   "source": [
    "As always, some imports are required.\n",
    "Today, we create a static plot using [matplotlib](https://matplotlib.org/).\n",
    "For the definition of the `read_dresden_csv` function, see the post for [day 2]({% post_url 2024-11-02-30daymapchallenge-day02-lines %})."
   ]
  },
  {
   "cell_type": "code",
   "execution_count": null,
   "metadata": {},
   "outputs": [],
   "source": [
    "import matplotlib.pyplot as plt\n",
    "import matplotlib.colors as clrs\n",
    "\n",
    "from utils import read_dresden_csv"
   ]
  },
  {
   "cell_type": "markdown",
   "metadata": {},
   "source": [
    "Besides the data for background information (city boundary, and streets), we load the actual tree data set for today.\n",
    "Right after loading the data, we split the coordinates into latitude and longitude components, which simplifies the calculation of hexbins later.\n",
    "With this, we get 116,751 records, i.e. tree locations:"
   ]
  },
  {
   "cell_type": "code",
   "execution_count": null,
   "metadata": {},
   "outputs": [],
   "source": [
    "gdf_trees = read_dresden_csv(\"data/dresden/stadtbaeume.csv\", geometry_column=\"geom\")\n",
    "gdf_trees[['longitude', 'latitude']] = gdf_trees.get_coordinates()\n",
    "\n",
    "gdf_city_boundary = read_dresden_csv(\"data/dresden/city_boundary.csv\", geometry_column=\"shape\")\n",
    "gdf_streets = read_dresden_csv(\"data/dresden/verkehrswege.csv\", geometry_column=\"shape\")"
   ]
  },
  {
   "cell_type": "markdown",
   "metadata": {},
   "source": [
    "For visualization, we first create a figure and axis object using matplotlib and define some colors, as well as a colorbar for the heatmap.\n",
    "Matplotlib already provides a function for binning and plotting data using hexagons.\n",
    "We just need to provide the data, define the resolution (`gridsize`) and set the colorbar.\n",
    "The parameter setting for `vmin=1` is very important for the colorbar to start at 1 and not 0.\n",
    "This way, hexbins that are empty get an alpha value of 0 (`cmap.set_under(alpha=0)`) and therefore are fully transparent."
   ]
  },
  {
   "cell_type": "code",
   "execution_count": null,
   "metadata": {},
   "outputs": [],
   "source": [
    "fig, ax = plt.subplots(1, 1, figsize=(15, 15))\n",
    "background_color = \"#ffffff\"\n",
    "street_color = \"#cacaca\"\n",
    "boundary_color = \"black\"\n",
    "ax.set_facecolor(background_color)\n",
    "ax.axis(\"off\")  # remove frame and axis ticks\n",
    "\n",
    "cmap = clrs.LinearSegmentedColormap.from_list(\"\", [\"#effbef\",\"green\",\"darkgreen\"])\n",
    "cmap.set_under(alpha=0)\n",
    "\n",
    "gridsize = 50\n",
    "plt.hexbin(\n",
    "    x=gdf_trees['longitude'],\n",
    "    y=gdf_trees['latitude'],\n",
    "    gridsize=(gridsize, gridsize//2),\n",
    "    cmap=cmap,\n",
    "    vmin=1,  # 0 trees should be considered \"under\" for correct alpha value\n",
    ")\n",
    "\n",
    "gdf_streets[\"shape\"].plot(color=street_color, ax=ax, linewidth=.5)\n",
    "gdf_city_boundary[\"shape\"].plot(edgecolor=boundary_color, facecolor=\"none\", ax=ax)\n",
    "\n",
    "plt.show()"
   ]
  }
 ],
 "metadata": {
  "kernelspec": {
   "display_name": "30daymapchallenge",
   "language": "python",
   "name": "python3"
  },
  "language_info": {
   "codemirror_mode": {
    "name": "ipython",
    "version": 3
   },
   "file_extension": ".py",
   "mimetype": "text/x-python",
   "name": "python",
   "nbconvert_exporter": "python",
   "pygments_lexer": "ipython3",
   "version": "3.12.7"
  }
 },
 "nbformat": 4,
 "nbformat_minor": 2
}
