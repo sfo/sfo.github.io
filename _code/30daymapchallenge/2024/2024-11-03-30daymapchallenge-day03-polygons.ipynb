{
 "cells": [
  {
   "cell_type": "markdown",
   "metadata": {},
   "source": [
    "---\n",
    "title: \"30 Day Map Challenge 2024 - Day 3: Polygons\"\n",
    "categories:\n",
    "  - Project\n",
    "tags:\n",
    "  - 30daymapchallenge\n",
    "  - python\n",
    "  - programming\n",
    "classes: wide\n",
    "header:\n",
    "  teaser: /assets/images/30daymapchallenge2024-day3.png\n",
    "---"
   ]
  },
  {
   "cell_type": "markdown",
   "metadata": {},
   "source": [
    "The theme of the third day is _Polygons_:\n",
    "> A map with polygons. Regions, countries, lakes—this day is for defined shapes that fill space. \n",
    "\n",
    "### Data\n",
    "\n",
    "For today, I downloaded two datasets provided at the [Dresden OpenDataPortal](https://opendata.dresden.de) to visualize the number of citizens living in each of Dresden's 64 districts:\n",
    "\n",
    "- [Citizens by District](https://opendata.dresden.de/informationsportal/?open=1&result=F2A9F96B5D2B4149A77D1F51FCCD37CA#app/mainpage)\n",
    "- [Districts](https://opendata.dresden.de/informationsportal/?open=1&result=493101D03C794E9C99CD8B2BAC194FEC#app/mainpage)"
   ]
  },
  {
   "cell_type": "markdown",
   "metadata": {},
   "source": [
    "## Implementation"
   ]
  },
  {
   "cell_type": "markdown",
   "metadata": {},
   "source": [
    "Today, we create an interactive map again.\n",
    "Therefore, the imports look similar to the ones from [day one]({% post_url 2024-11-01-30daymapchallenge-day01-points %}).\n",
    "However, this day, we also need some functionality to create a colormap.\n",
    "\n",
    "The `read_dresden_csv` function has been introduced [yesterday]({% post_url 2024-11-02-30daymapchallenge-day02-lines %})."
   ]
  },
  {
   "cell_type": "code",
   "execution_count": null,
   "metadata": {},
   "outputs": [],
   "source": [
    "from pathlib import Path\n",
    "\n",
    "import branca.colormap as cm\n",
    "import folium\n",
    "import geopandas as gpd\n",
    "import pandas as pd\n",
    "\n",
    "from utils import read_dresden_csv"
   ]
  },
  {
   "cell_type": "markdown",
   "metadata": {},
   "source": [
    "Now, we can load today's data sets:"
   ]
  },
  {
   "cell_type": "code",
   "execution_count": null,
   "metadata": {},
   "outputs": [],
   "source": [
    "gdf_districts = read_dresden_csv(\"data/dresden/stadtteile.csv\", geometry_column=\"shape\")\n",
    "df_citizens = pd.read_csv(\"data/dresden/bevoelkerung.csv\", delimiter=\",\", header=0)"
   ]
  },
  {
   "cell_type": "markdown",
   "metadata": {},
   "source": [
    "The citizens data set contains information about the number of habitants per district, differentiated along two dimensions: gender (male / female) and marital status (single, married, divorced, widowed).\n",
    "Since we are interested in overall numbers only, we group records by district (_\"blocknr_\") and sum the column that holds the number of citizens (_\"Anzahl Einwohner\"_).\n",
    "Furthermore, the district's ID (_\"blocknr\"_) is extracted from a column that contains a string that is comprised of the ID and name.\n",
    "\n",
    "This ID is then used to assign the number of citizens to the right district."
   ]
  },
  {
   "cell_type": "code",
   "execution_count": null,
   "metadata": {},
   "outputs": [],
   "source": [
    "citizens = (\n",
    "    df_citizens.assign(\n",
    "        blocknr=df_citizens[\"Stadtteil zus.\"].str.split(\" \").str[0].astype(int)\n",
    "    )\n",
    "    .groupby(\"blocknr\")\n",
    "    .sum()[\"Anzahl Einwohner\"]\n",
    ")\n",
    "\n",
    "gdf_districts = gdf_districts.set_index(\"blocknr\").assign(\n",
    "    citizens=citizens,\n",
    ").fillna(0)"
   ]
  },
  {
   "cell_type": "markdown",
   "metadata": {},
   "source": [
    "Now that the data is consolidated, we can create a map that visualizes all the districts of Dresden using color-coded polygons.\n",
    "The geometry information is retrieved from the WKT strings for each district (cf. [day one]({% post_url 2024-11-01-30daymapchallenge-day01-points %})).\n",
    "For encoding the number of citizens, we set up a colormap that goes from white (0 inhabitants) up to red (maximum number of inhabitants per district)."
   ]
  },
  {
   "cell_type": "code",
   "execution_count": null,
   "metadata": {},
   "outputs": [],
   "source": [
    "map = folium.Map(tiles=\"CartoDB positron\")\n",
    "cmap = cm.LinearColormap([\"white\", \"orange\", \"red\"], vmin=0, vmax=citizens.max())\n",
    "\n",
    "folium.GeoJson(\n",
    "    gdf_districts,\n",
    "    popup=folium.GeoJsonPopup([\"bez\", \"citizens\"]),\n",
    "    tooltip=folium.GeoJsonTooltip([\"bez\", \"citizens\"]),\n",
    "    style_function=lambda feature: {\n",
    "        \"fillColor\": cmap(feature[\"properties\"][\"citizens\"]),\n",
    "        \"fillOpacity\": .9,\n",
    "        \"color\": \"black\",\n",
    "        \"weight\": 1,\n",
    "        # \"dashArray\": \"5, 5\",\n",
    "    },\n",
    "\n",
    ").add_to(map)\n",
    "\n",
    "map.fit_bounds(map.get_bounds())\n",
    "map"
   ]
  }
 ],
 "metadata": {
  "kernelspec": {
   "display_name": "30daymapchallenge",
   "language": "python",
   "name": "python3"
  },
  "language_info": {
   "codemirror_mode": {
    "name": "ipython",
    "version": 3
   },
   "file_extension": ".py",
   "mimetype": "text/x-python",
   "name": "python",
   "nbconvert_exporter": "python",
   "pygments_lexer": "ipython3",
   "version": "3.12.7"
  }
 },
 "nbformat": 4,
 "nbformat_minor": 2
}
