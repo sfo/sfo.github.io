{
 "cells": [
  {
   "cell_type": "markdown",
   "metadata": {},
   "source": [
    "---\n",
    "title: \"30 Day Map Challenge 2024 - Day 5: A journey\"\n",
    "categories:\n",
    "  - Project\n",
    "tags:\n",
    "  - 30daymapchallenge\n",
    "  - python\n",
    "  - programming\n",
    "classes: wide\n",
    "header:\n",
    "  teaser: /assets/images/30daymapchallenge2024-day5.png\n",
    "---"
   ]
  },
  {
   "cell_type": "markdown",
   "metadata": {},
   "source": [
    "On day four, the theme is _A journey_:\n",
    "> Map any journey. Personal or not. Trace a journey - this could be a daily commute, a long-distance trip, or something from history. The key is to map movement from one place to another. "
   ]
  },
  {
   "cell_type": "markdown",
   "metadata": {},
   "source": [
    "### Data\n",
    "\n",
    "For today's task, we need to compile a custom data set that cannot be found ready for use anywhere.\n",
    "I want to map the _[Grand Tour](https://en.wikipedia.org/wiki/Grand_Tour)_ that [Augustus II the Strong](https://en.wikipedia.org/wiki/Augustus_II_the_Strong) undertook from May 19th, 1687 to April 28th, 1689.\n",
    "On his journey, he was to get to know the architecture and culture of other countries, enhance his foreign language skills, learn manners and gain diplomatic skills and experience.\n",
    "\n",
    "Starting in Dresden, his tour took him via Leipzig and Frankfurt am Main to Paris, where he spent a long time at the court of the “Sun King” Louis XIV.\n",
    "After a short detour to Madrid, he returned to Paris.\n",
    "From there, he traveled via Madrid and Lisbon to Venice and finally back to Dresden via Vienna and Prague.\n",
    "The details of the journey vary from source to source, but the overall route is roughly similar.\n",
    "\n",
    "<!-- TODO - consult https://play.google.com/books/reader?id=DUxKAAAAcAAJ&pg=GBS.PA14&hl=de&q=1687 -->"
   ]
  },
  {
   "cell_type": "markdown",
   "metadata": {},
   "source": [
    "## Implementation"
   ]
  },
  {
   "cell_type": "markdown",
   "metadata": {},
   "source": [
    "The necessary imports include the usual mapping and data handling libraries.\n",
    "`geopy` provides an abstraction to convenientky access the [Nominatim](https://nominatim.org/) API that uses OpenStreetMap data to retrieve a city's coordinates by name."
   ]
  },
  {
   "cell_type": "code",
   "execution_count": null,
   "metadata": {},
   "outputs": [],
   "source": [
    "import cartopy.crs as ccrs\n",
    "import cartopy.io.img_tiles as cimgt\n",
    "import matplotlib.pyplot as plt\n",
    "import pandas as pd\n",
    "from geopy.geocoders import Nominatim\n",
    "from matplotlib.patches import FancyArrowPatch"
   ]
  },
  {
   "cell_type": "markdown",
   "metadata": {},
   "source": [
    "First, we have to get the location of each of the cities on the journey, store it in a pandas `DataFrame`.\n",
    "Additionally, we add two columns that hold the next destination, which makes drawing the connections much easier when creating the map."
   ]
  },
  {
   "cell_type": "code",
   "execution_count": null,
   "metadata": {},
   "outputs": [],
   "source": [
    "geolocator = Nominatim(user_agent=\"30daymapchallenge\")\n",
    "\n",
    "df = pd.DataFrame(\n",
    "    [\n",
    "        {\"city\": city, \"latitude\": location.latitude, \"longitude\": location.longitude}\n",
    "        for city in [\n",
    "            \"Dresden\",\n",
    "            \"Leipzig\",\n",
    "            \"Frankfurt am Main\",\n",
    "            \"Paris\",\n",
    "            \"Madrid\",\n",
    "            \"Lisbon\",\n",
    "            \"Venice\",\n",
    "            \"Vienna\",\n",
    "            \"Prague\",\n",
    "            \"Dresden\",\n",
    "        ]\n",
    "        if (location := geolocator.geocode(city)) is not None\n",
    "    ]\n",
    ").assign(\n",
    "    dest_lat=lambda df: df[\"latitude\"].shift(-1),\n",
    "    dest_lon=lambda df: df[\"longitude\"].shift(-1),\n",
    ")"
   ]
  },
  {
   "cell_type": "markdown",
   "metadata": {},
   "source": [
    "From the list of coordinates, we now have to extract the bounding box that defines the area the map should show.\n",
    "It's compiled from the minimum and maximum value of latitude and longitude components, respectively.\n",
    "An additional margin of 1 degree in each direction prevents content laying directly on the border of the map."
   ]
  },
  {
   "cell_type": "code",
   "execution_count": null,
   "metadata": {},
   "outputs": [],
   "source": [
    "bounds = [\n",
    "    coord\n",
    "    for coords in zip(\n",
    "        df[[\"longitude\", \"latitude\"]].min() - 1, df[[\"longitude\", \"latitude\"]].max() + 1\n",
    "    )\n",
    "    for coord in coords\n",
    "]"
   ]
  },
  {
   "cell_type": "markdown",
   "metadata": {},
   "source": [
    "For a nice arrangement of the labels that contain each city's name, we define a dictionary that holds offset values (in unit _points_), which will be used later when rendering annotations on the map."
   ]
  },
  {
   "cell_type": "code",
   "execution_count": null,
   "metadata": {},
   "outputs": [],
   "source": [
    "offset_map = {\n",
    "    \"Dresden\": (20, 0),\n",
    "    \"Leipzig\": (20, 20),\n",
    "    \"Frankfurt am Main\": (-170, 20),\n",
    "    \"Paris\": (15, -20),\n",
    "    \"Madrid\": (-75, 20),\n",
    "    \"Lisbon\": (20, -25),\n",
    "    \"Venice\": (15, -25),\n",
    "    \"Vienna\": (-85, 0),\n",
    "    \"Prague\": (20, 5),\n",
    "}"
   ]
  },
  {
   "cell_type": "markdown",
   "metadata": {},
   "source": [
    "Based on this data, we can now build the map visualizing the journey of August II the Strong.\n",
    "First, we set OpenStreetMap as the provider for background tiles and retrieve an axis object to work with.\n",
    "\n",
    "Then we loop over all the cities in the dataframe, plot a marker at the specific location, as well as an annotation that prints the city's name.\n",
    "Here, we use the offset mapping from above to shift the label accordingly.\n",
    "\n",
    "Finally, if there is a succeeding destination for the current city, we plot a nice arrow that visualizes the direction of travel.\n",
    "For the offset of the annotations, as well as the `shrinkA` and `shrinkB` parameters of the `FancyArrowPatch`, it is important to note that those are in unit _points_.\n",
    "This is very useful for achieving the same distance on the map for equal values, which are not affected by the projection in use."
   ]
  },
  {
   "cell_type": "code",
   "execution_count": null,
   "metadata": {},
   "outputs": [],
   "source": [
    "tiles = cimgt.OSM()\n",
    "\n",
    "fig = plt.figure(figsize=(15, 15))\n",
    "ax = fig.add_subplot(1, 1, 1, projection=tiles.crs)\n",
    "\n",
    "ax.set_extent(bounds, crs=ccrs.Geodetic())\n",
    "\n",
    "ax.add_image(tiles, 6)\n",
    "\n",
    "for label, city in df.iterrows():\n",
    "    ax.plot(\n",
    "        city[\"longitude\"],\n",
    "        city[\"latitude\"],\n",
    "        marker=r\"$\\bigotimes$\",\n",
    "        color=\"black\",\n",
    "        markersize=16,\n",
    "        transform=ccrs.Geodetic(),\n",
    "    )\n",
    "\n",
    "    ax.annotate(\n",
    "        city[\"city\"],\n",
    "        xy=(city[\"longitude\"], city[\"latitude\"]),\n",
    "        xycoords=\"data\",\n",
    "        xytext=offset_map[city[\"city\"]],\n",
    "        textcoords=\"offset points\",\n",
    "        fontsize=18,\n",
    "        transform=ccrs.Geodetic(),\n",
    "        color=\"white\" if city[\"city\"] == \"Dresden\" else \"black\",\n",
    "        bbox=dict(\n",
    "            boxstyle=\"round,pad=0.2\",\n",
    "            fc=\"darkgreen\" if city[\"city\"] == \"Dresden\" else \"white\",\n",
    "            ec=\"darkgreen\",\n",
    "            lw=2,\n",
    "        ),\n",
    "    )\n",
    "\n",
    "    if city.isnull().any():\n",
    "        continue\n",
    "\n",
    "    arrow = FancyArrowPatch(\n",
    "        (city[\"longitude\"], city[\"latitude\"]),\n",
    "        (city[\"dest_lon\"], city[\"dest_lat\"]),\n",
    "        connectionstyle=\"arc3,rad=.1\",\n",
    "        arrowstyle=\"Simple, head_width=12, head_length=8\",\n",
    "        color=\"green\",\n",
    "        shrinkA=15,\n",
    "        shrinkB=15,\n",
    "        lw=8,\n",
    "    )\n",
    "    patch = ax.add_patch(\n",
    "        arrow,\n",
    "    )\n",
    "    patch.set_transform(ccrs.Geodetic())\n",
    "\n",
    "\n",
    "plt.show()"
   ]
  }
 ],
 "metadata": {
  "kernelspec": {
   "display_name": "30daymapchallenge",
   "language": "python",
   "name": "python3"
  },
  "language_info": {
   "codemirror_mode": {
    "name": "ipython",
    "version": 3
   },
   "file_extension": ".py",
   "mimetype": "text/x-python",
   "name": "python",
   "nbconvert_exporter": "python",
   "pygments_lexer": "ipython3",
   "version": "3.12.7"
  }
 },
 "nbformat": 4,
 "nbformat_minor": 2
}
