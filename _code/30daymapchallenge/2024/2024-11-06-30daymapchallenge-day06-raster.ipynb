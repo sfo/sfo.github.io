{
 "cells": [
  {
   "cell_type": "markdown",
   "metadata": {},
   "source": [
    "---\n",
    "title: \"30 Day Map Challenge 2024 - Day 6: Raster\"\n",
    "categories:\n",
    "  - Project\n",
    "tags:\n",
    "  - 30daymapchallenge\n",
    "  - python\n",
    "  - programming\n",
    "classes: wide\n",
    "header:\n",
    "  teaser: /assets/images/30daymapchallenge2024-day6.png\n",
    "---"
   ]
  },
  {
   "cell_type": "markdown",
   "metadata": {},
   "source": [
    "The theme for day six is _Raster_:\n",
    "> A map using raster data. Rasters are everywhere, but today’s focus is purely on grids and pixels - satellite imagery, heatmaps, or any continuous surface data. "
   ]
  },
  {
   "cell_type": "markdown",
   "metadata": {},
   "source": [
    "### Data\n",
    "\n",
    "Today, I will again use data from [Dresden OpenDataPortal](https://opendata.dresden.de/informationsportal/), specifically the data of the [digital terrain model](https://opendata.dresden.de/informationsportal/?open=1&result=9F7A6477F63840F791F7CCD50C6CD9CF#app/mainpage) with a resolution of 1 meter.\n",
    "The data is provided in GeoTIFF format, a special kind of the TIF image format with additional georeferencing information embedded, like projection, coordinate system, ellipsoids, etc."
   ]
  },
  {
   "cell_type": "markdown",
   "metadata": {},
   "source": [
    "## Implementation"
   ]
  },
  {
   "cell_type": "markdown",
   "metadata": {},
   "source": [
    "Besides the well-known data handling and plotting libraries, we will use `rasterio` for loading the GeoTIFF file:"
   ]
  },
  {
   "cell_type": "code",
   "execution_count": null,
   "metadata": {},
   "outputs": [],
   "source": [
    "import rasterio\n",
    "import matplotlib.pyplot as plt\n",
    "import matplotlib.patches as patches\n",
    "import numpy as np\n",
    "\n",
    "from utils import read_dresden_csv"
   ]
  },
  {
   "cell_type": "markdown",
   "metadata": {},
   "source": [
    "The whole area of Dresden city lays more than 100 meters above mean sea level.\n",
    "Any point of the rectangular raster in the GeoTIFF image that is beyond the city's boundary has a height value of 0.\n",
    "Therefore we can use this value to mask the data array and thus exclude these points from further calculations, especially for the colorbar scaling.\n",
    "\n",
    "Again we also load the city's boundary, as well as street data to add some background information to the map and improve orientation.\n",
    "This time, we have to adapt the coordinate reference system (CRS), ensuring all data uses the same map projection."
   ]
  },
  {
   "cell_type": "code",
   "execution_count": null,
   "metadata": {},
   "outputs": [],
   "source": [
    "dataset = rasterio.open(\"data/dresden/DGM1_geotiff/DGM1_Dresden.tif\")\n",
    "data = dataset.read()\n",
    "data_masked = np.ma.masked_values(data[0], 0.0)\n",
    "\n",
    "gdf_city_boundary = read_dresden_csv(\"data/dresden/city_boundary.csv\", geometry_column=\"shape\").to_crs(dataset.crs)\n",
    "gdf_streets = read_dresden_csv(\"data/dresden/verkehrswege.csv\", geometry_column=\"shape\").to_crs(dataset.crs)"
   ]
  },
  {
   "cell_type": "markdown",
   "metadata": {},
   "source": [
    "Mapping of the data is straight forward and the code should be rather self-explanatory.\n",
    "Since pyplot's image plot function `imshow` uses array indices for x and y coordinates, the `extent` parameter has to be set to reflect the actual bounds of the image in terms of real coordinates.\n",
    "After plotting the image, we clip it to the city's boundary and add additional information by plotting the road network."
   ]
  },
  {
   "cell_type": "code",
   "execution_count": null,
   "metadata": {},
   "outputs": [],
   "source": [
    "cmap = plt.get_cmap(\"gist_ncar\")\n",
    "cmap.set_under(alpha=0)\n",
    "\n",
    "fig, ax = plt.subplots(1, 1, figsize=(20, 20))\n",
    "\n",
    "image = plt.imshow(\n",
    "    data_masked,\n",
    "    cmap=cmap,\n",
    "    extent=(\n",
    "        dataset.bounds.left,\n",
    "        dataset.bounds.right,\n",
    "        dataset.bounds.bottom,\n",
    "        dataset.bounds.top,\n",
    "    ),\n",
    ")\n",
    "image.set_clip_path(\n",
    "    patches.Polygon(\n",
    "        np.array(gdf_city_boundary[\"shape\"][0].exterior.xy).T,\n",
    "        closed=False,\n",
    "        transform=ax.transData,\n",
    "    )\n",
    ")\n",
    "\n",
    "gdf_city_boundary[\"shape\"].plot(\n",
    "    edgecolor=\"black\",\n",
    "    facecolor=\"none\",\n",
    "    ax=ax,\n",
    ")\n",
    "\n",
    "gdf_streets[\"shape\"].plot(edgecolor=\"white\", lw=0.5, ax=ax)\n",
    "\n",
    "plt.colorbar(\n",
    "    shrink=0.5, label=r\"height above mean sea level ($\\it{Normalhöhennull}$) [m]\"\n",
    ")\n",
    "ax.axis(\"off\")\n",
    "\n",
    "plt.show()"
   ]
  }
 ],
 "metadata": {
  "kernelspec": {
   "display_name": "30daymapchallenge",
   "language": "python",
   "name": "python3"
  },
  "language_info": {
   "codemirror_mode": {
    "name": "ipython",
    "version": 3
   },
   "file_extension": ".py",
   "mimetype": "text/x-python",
   "name": "python",
   "nbconvert_exporter": "python",
   "pygments_lexer": "ipython3",
   "version": "3.12.7"
  }
 },
 "nbformat": 4,
 "nbformat_minor": 2
}
