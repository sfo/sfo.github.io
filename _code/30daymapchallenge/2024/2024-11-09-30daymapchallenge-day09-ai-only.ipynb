{
 "cells": [
  {
   "cell_type": "markdown",
   "metadata": {},
   "source": [
    "---\n",
    "title: \"30 Day Map Challenge 2024 - Day 9: AI only\"\n",
    "categories:\n",
    "  - Project\n",
    "tags:\n",
    "  - 30daymapchallenge\n",
    "  - python\n",
    "  - programming\n",
    "classes: wide\n",
    "header:\n",
    "  teaser: /assets/images/30daymapchallenge2024-day9.png\n",
    "---"
   ]
  },
  {
   "cell_type": "markdown",
   "metadata": {},
   "source": [
    "On day nine, we are asked to not create a map at all but let an AI do it for us:\n",
    "> This day is all about prompt engineering. Use AI tools like DALL-E, MidJourney, Stable Diffusion, or ChatGPT with geospatial capabilities to create a map based on AI-generated content. The challenge is to get the right prompt and critically assess the output - how well does AI capture or distort the map's intent?"
   ]
  },
  {
   "cell_type": "markdown",
   "metadata": {},
   "source": [
    "## Implementation"
   ]
  },
  {
   "cell_type": "markdown",
   "metadata": {},
   "source": [
    "Create a dataframe that holds the average income per inhabitant of the city Dresden (Germany). Each row contains the data for one district of Dresden."
   ]
  },
  {
   "cell_type": "code",
   "execution_count": null,
   "metadata": {},
   "outputs": [],
   "source": [
    "import pandas as pd\n",
    "import random\n",
    "\n",
    "# Load the CSV file into a dataframe\n",
    "df_districts = pd.read_csv(\"data/dresden/stadtteile.csv\")\n",
    "\n",
    "# Merge the dataframe with the average income data\n",
    "df_districts = df_districts.merge(df_dresden_income, on='District', how='left')\n",
    "\n",
    "print(df_districts.head())\n",
    "# Create example data for average income\n",
    "districts = df_districts['District'].unique()\n",
    "average_income = [random.randint(20000, 30000) for _ in districts]\n",
    "df_dresden_income = pd.DataFrame({\n",
    "    'District': districts,\n",
    "    'Average_Income': average_income\n",
    "})"
   ]
  }
 ],
 "metadata": {
  "kernelspec": {
   "display_name": "30daymapchallenge",
   "language": "python",
   "name": "python3"
  },
  "language_info": {
   "codemirror_mode": {
    "name": "ipython",
    "version": 3
   },
   "file_extension": ".py",
   "mimetype": "text/x-python",
   "name": "python",
   "nbconvert_exporter": "python",
   "pygments_lexer": "ipython3",
   "version": "3.12.7"
  }
 },
 "nbformat": 4,
 "nbformat_minor": 2
}
