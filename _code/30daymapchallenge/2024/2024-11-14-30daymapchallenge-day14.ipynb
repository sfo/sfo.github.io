{
 "cells": [
  {
   "cell_type": "markdown",
   "metadata": {},
   "source": [
    "---\n",
    "title: \"30 Day Map Challenge 2024 - Day 14: A world map\"\n",
    "categories:\n",
    "  - Project\n",
    "tags:\n",
    "  - 30daymapchallenge\n",
    "  - python\n",
    "  - programming\n",
    "classes: wide\n",
    "header:\n",
    "  teaser: /assets/images/30daymapchallenge2024-day14.png\n",
    "---"
   ]
  },
  {
   "cell_type": "markdown",
   "metadata": {},
   "source": [
    "The theme for day 14 is _A world map_:\n",
    "> Map the whole world. Whether it’s continents, ecosystems, or oceans, this is the day to map the entire planet."
   ]
  },
  {
   "cell_type": "markdown",
   "metadata": {},
   "source": [
    "### Data\n",
    "\n",
    "Today, we will use data from the [_PANGAEA_ data warehouse](https://www.pangaea.de/).\n",
    "I found that the search enginge of the EUDAT's b2find service is superior to that of PANGAEA.\n",
    "Therefore, I will query for \"Polarstern Master Track\" there, scrape the results and use the links to the PANGAEA website to locate the actual dataset.\n",
    "Using a python library, we can then download the datasets.\n",
    "\n",
    "\n",
    "### Data Download\n",
    "\n",
    "```shell\n",
    "curl 'https://search-es-wmm-prod-4wpjacc7xjk4fixaluzofej5vq.eu-west-1.es.amazonaws.com/rankings/_search' --data-raw '{\"from\":\"0\",\"size\":\"1000000\",\"sort\":[{\"_score\":{\"order\":\"desc\"}},{\"fastest_finish_time_secs\":{\"order\":\"asc\"}}],\"query\":{\"bool\":{\"must\":[],\"filter\":[{\"match\":{\"edition\":\"6\"}},{\"match\":{\"gender\":\"M\"}}],\"must_not\":{\"match\":{\"overall_ranking\":0}}}}}' -H 'content-type: application/json' > results.json\n",
    "```"
   ]
  },
  {
   "cell_type": "markdown",
   "metadata": {},
   "source": [
    "## Implementation"
   ]
  },
  {
   "cell_type": "markdown",
   "metadata": {},
   "source": [
    "Create a dataframe that holds the average income per inhabitant of the city Dresden (Germany). Each row contains the data for one district of Dresden."
   ]
  },
  {
   "cell_type": "code",
   "execution_count": 6,
   "metadata": {},
   "outputs": [],
   "source": [
    "import json\n",
    "from pathlib import Path\n",
    "\n",
    "import pandas as pd\n",
    "from tqdm import tqdm"
   ]
  },
  {
   "cell_type": "code",
   "execution_count": 13,
   "metadata": {},
   "outputs": [
    {
     "name": "stderr",
     "output_type": "stream",
     "text": [
      "100%|██████████| 321171/321171 [01:53<00:00, 2832.65it/s]\n",
      "100%|██████████| 133007/133007 [00:47<00:00, 2810.74it/s]\n"
     ]
    }
   ],
   "source": [
    "data_folder = Path(f\"data/abbott/2024worldranking\")\n",
    "for sex in (\"m\", \"f\"):\n",
    "    data_file_path = data_folder / f\"results_{sex}.json\"\n",
    "    with open(data_file_path) as data_file:\n",
    "        data = json.load(data_file)\n",
    "    df = pd.concat([pd.json_normalize(s['_source']).loc[:, [\"age_group\", \"gender\", \"nationality\", \"fastest_finish_time_secs\"]] for s in tqdm(data[\"hits\"][\"hits\"])])\n",
    "    df.to_csv(data_file_path.with_suffix(\".csv\"), index=False)"
   ]
  },
  {
   "cell_type": "code",
   "execution_count": 16,
   "metadata": {},
   "outputs": [],
   "source": [
    "df = pd.concat(\n",
    "    [pd.read_csv(data_folder / f\"results_{sex}.csv\") for sex in (\"m\", \"f\")],\n",
    "    axis=0\n",
    ").reset_index(drop=True)"
   ]
  },
  {
   "cell_type": "code",
   "execution_count": 20,
   "metadata": {},
   "outputs": [
    {
     "data": {
      "text/html": [
       "<div>\n",
       "<style scoped>\n",
       "    .dataframe tbody tr th:only-of-type {\n",
       "        vertical-align: middle;\n",
       "    }\n",
       "\n",
       "    .dataframe tbody tr th {\n",
       "        vertical-align: top;\n",
       "    }\n",
       "\n",
       "    .dataframe thead th {\n",
       "        text-align: right;\n",
       "    }\n",
       "</style>\n",
       "<table border=\"1\" class=\"dataframe\">\n",
       "  <thead>\n",
       "    <tr style=\"text-align: right;\">\n",
       "      <th></th>\n",
       "      <th>gender</th>\n",
       "      <th>nationality</th>\n",
       "      <th>fastest_finish_time_secs</th>\n",
       "    </tr>\n",
       "  </thead>\n",
       "  <tbody>\n",
       "    <tr>\n",
       "      <th>0</th>\n",
       "      <td>F</td>\n",
       "      <td>AFG</td>\n",
       "      <td>16131.000000</td>\n",
       "    </tr>\n",
       "    <tr>\n",
       "      <th>1</th>\n",
       "      <td>F</td>\n",
       "      <td>ALB</td>\n",
       "      <td>17404.428571</td>\n",
       "    </tr>\n",
       "    <tr>\n",
       "      <th>2</th>\n",
       "      <td>F</td>\n",
       "      <td>ALG</td>\n",
       "      <td>17880.000000</td>\n",
       "    </tr>\n",
       "    <tr>\n",
       "      <th>3</th>\n",
       "      <td>F</td>\n",
       "      <td>AND</td>\n",
       "      <td>15325.250000</td>\n",
       "    </tr>\n",
       "    <tr>\n",
       "      <th>4</th>\n",
       "      <td>F</td>\n",
       "      <td>ANG</td>\n",
       "      <td>15657.333333</td>\n",
       "    </tr>\n",
       "    <tr>\n",
       "      <th>...</th>\n",
       "      <td>...</td>\n",
       "      <td>...</td>\n",
       "      <td>...</td>\n",
       "    </tr>\n",
       "    <tr>\n",
       "      <th>361</th>\n",
       "      <td>M</td>\n",
       "      <td>VEN</td>\n",
       "      <td>15452.579431</td>\n",
       "    </tr>\n",
       "    <tr>\n",
       "      <th>362</th>\n",
       "      <td>M</td>\n",
       "      <td>VIE</td>\n",
       "      <td>16566.221679</td>\n",
       "    </tr>\n",
       "    <tr>\n",
       "      <th>363</th>\n",
       "      <td>M</td>\n",
       "      <td>VIN</td>\n",
       "      <td>17933.666667</td>\n",
       "    </tr>\n",
       "    <tr>\n",
       "      <th>364</th>\n",
       "      <td>M</td>\n",
       "      <td>ZAM</td>\n",
       "      <td>15987.173913</td>\n",
       "    </tr>\n",
       "    <tr>\n",
       "      <th>365</th>\n",
       "      <td>M</td>\n",
       "      <td>ZIM</td>\n",
       "      <td>15394.553073</td>\n",
       "    </tr>\n",
       "  </tbody>\n",
       "</table>\n",
       "<p>366 rows × 3 columns</p>\n",
       "</div>"
      ],
      "text/plain": [
       "    gender nationality  fastest_finish_time_secs\n",
       "0        F         AFG              16131.000000\n",
       "1        F         ALB              17404.428571\n",
       "2        F         ALG              17880.000000\n",
       "3        F         AND              15325.250000\n",
       "4        F         ANG              15657.333333\n",
       "..     ...         ...                       ...\n",
       "361      M         VEN              15452.579431\n",
       "362      M         VIE              16566.221679\n",
       "363      M         VIN              17933.666667\n",
       "364      M         ZAM              15987.173913\n",
       "365      M         ZIM              15394.553073\n",
       "\n",
       "[366 rows x 3 columns]"
      ]
     },
     "execution_count": 20,
     "metadata": {},
     "output_type": "execute_result"
    }
   ],
   "source": [
    "df.drop([\"age_group\"], axis=\"columns\").groupby([\"gender\", \"nationality\"]).mean().reset_index()"
   ]
  }
 ],
 "metadata": {
  "kernelspec": {
   "display_name": "30daymapchallenge",
   "language": "python",
   "name": "python3"
  },
  "language_info": {
   "codemirror_mode": {
    "name": "ipython",
    "version": 3
   },
   "file_extension": ".py",
   "mimetype": "text/x-python",
   "name": "python",
   "nbconvert_exporter": "python",
   "pygments_lexer": "ipython3",
   "version": "3.12.7"
  }
 },
 "nbformat": 4,
 "nbformat_minor": 2
}
