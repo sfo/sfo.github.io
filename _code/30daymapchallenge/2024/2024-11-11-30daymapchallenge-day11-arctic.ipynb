{
 "cells": [
  {
   "cell_type": "markdown",
   "metadata": {},
   "source": [
    "---\n",
    "title: \"30 Day Map Challenge 2024 - Day 11: Arctic\"\n",
    "categories:\n",
    "  - Project\n",
    "tags:\n",
    "  - 30daymapchallenge\n",
    "  - python\n",
    "  - programming\n",
    "classes: wide\n",
    "header:\n",
    "  teaser: /assets/images/30daymapchallenge2024-day11.png\n",
    "---"
   ]
  },
  {
   "cell_type": "markdown",
   "metadata": {},
   "source": [
    "The theme for day 11 is _Arctic_:\n",
    "> Map the Arctic. Whether it’s ice coverage, wildlife habitats, or the effects of climate change, this day is all about mapping the cold extremes of the Arctic."
   ]
  },
  {
   "cell_type": "markdown",
   "metadata": {},
   "source": [
    "### Data\n",
    "\n",
    "Today, we will use data from the [_PANGAEA_ data warehouse](https://www.pangaea.de/).\n",
    "I found that the search enginge of the EUDAT's b2find service is superior to that of PANGAEA.\n",
    "Therefore, I will query for \"Polarstern Master Track\" there, scrape the results and use the links to the PANGAEA website to locate the actual dataset.\n",
    "Using a python library, we can then download the datasets.\n",
    "\n",
    "\n",
    "### Data Download\n",
    "\n",
    "\n"
   ]
  },
  {
   "cell_type": "markdown",
   "metadata": {},
   "source": [
    "## Implementation"
   ]
  },
  {
   "cell_type": "markdown",
   "metadata": {},
   "source": [
    "Create a dataframe that holds the average income per inhabitant of the city Dresden (Germany). Each row contains the data for one district of Dresden."
   ]
  },
  {
   "cell_type": "code",
   "execution_count": null,
   "metadata": {},
   "outputs": [],
   "source": [
    "import pandas as pd\n",
    "import random\n",
    "\n",
    "# Load the CSV file into a dataframe\n",
    "df_districts = pd.read_csv(\"data/dresden/stadtteile.csv\")\n",
    "\n",
    "# Merge the dataframe with the average income data\n",
    "df_districts = df_districts.merge(df_dresden_income, on='District', how='left')\n",
    "\n",
    "print(df_districts.head())\n",
    "# Create example data for average income\n",
    "districts = df_districts['District'].unique()\n",
    "average_income = [random.randint(20000, 30000) for _ in districts]\n",
    "df_dresden_income = pd.DataFrame({\n",
    "    'District': districts,\n",
    "    'Average_Income': average_income\n",
    "})"
   ]
  }
 ],
 "metadata": {
  "kernelspec": {
   "display_name": "30daymapchallenge",
   "language": "python",
   "name": "python3"
  },
  "language_info": {
   "codemirror_mode": {
    "name": "ipython",
    "version": 3
   },
   "file_extension": ".py",
   "mimetype": "text/x-python",
   "name": "python",
   "nbconvert_exporter": "python",
   "pygments_lexer": "ipython3",
   "version": "3.12.7"
  }
 },
 "nbformat": 4,
 "nbformat_minor": 2
}
