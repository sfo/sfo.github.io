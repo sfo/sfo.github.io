{
 "cells": [
  {
   "cell_type": "markdown",
   "metadata": {},
   "source": [
    "---\n",
    "title: \"30 Day Map Challenge 2024 - Day 2: Lines\"\n",
    "categories:\n",
    "  - Project\n",
    "tags:\n",
    "  - 30daymapchallenge\n",
    "  - python\n",
    "  - programming\n",
    "classes: wide\n",
    "header:\n",
    "  teaser: /assets/images/30daymapchallenge2024-day2.png\n",
    "---"
   ]
  },
  {
   "cell_type": "markdown",
   "metadata": {},
   "source": [
    "The theme of the second day is _Lines_:\n",
    "> A map with focus on lines. Roads, rivers, routes, or borders - this day is all about mapping connections and divisions. Another traditional way to keep things moving. \n",
    "\n",
    "### Data\n",
    "\n",
    "Again, I will select data from the [Dresden OpenDataPortal](https://opendata.dresden.de) to visualize.\n",
    "Specifically, I want to create a map of all standing and flowing waters in the city of Dresden.\n",
    "The most prominent one here is the Elbe, a major river in Europe, which flows from east to west and divides the city in two parts.\n",
    "_Obviously, the northern part of the city is the better one!_\n",
    "The Elbe's source lays in the Giant Mountains of the northern Czech Republic.\n",
    "After 1094 km, it flows into the North Sea at Cuxhaven (northwest of Hamburg). \n",
    "\n",
    "For today's visualization, I downloaded five datasets. While the first three serve the main purpose of mapping standing and flowing waters, the latter two will provide some background information that improve orientation.\n",
    "- [Flowing Waters](https://opendata.dresden.de/informationsportal/?open=1&result=EE59E39313ED411E9BF89CAA3FDE6BEB#app/mainpage)\n",
    "- [Standig Waters](https://opendata.dresden.de/informationsportal/?open=1&result=58D32A59645743DBAE49FA6BD336EEE0#app/mainpage)\n",
    "- [Elbe](https://opendata.dresden.de/informationsportal/?open=1&result=2EB3436D339C443980597EEBFA1D9064#app/mainpage)\n",
    "- [City Boundary](https://opendata.dresden.de/informationsportal/?open=1&result=F53704F6916F48EBAFA4CB223E7E47B8#app/mainpage)\n",
    "- [Public Traffic Ways](https://opendata.dresden.de/informationsportal/?open=1&result=6D4BA7781F4849A3A99F9310170E36EE#app/mainpage)"
   ]
  },
  {
   "cell_type": "markdown",
   "metadata": {},
   "source": [
    "## Implementation"
   ]
  },
  {
   "cell_type": "markdown",
   "metadata": {},
   "source": [
    "First, we need of course to import required libraries and load the data for today."
   ]
  },
  {
   "cell_type": "code",
   "execution_count": null,
   "metadata": {},
   "outputs": [],
   "source": [
    "from pathlib import Path\n",
    "\n",
    "import folium\n",
    "import geopandas as gpd\n",
    "import pandas as pd"
   ]
  },
  {
   "cell_type": "markdown",
   "metadata": {},
   "source": [
    "Since we need to load several CSV files today, I first create a method that performs file reading and transformation into a `GeoDataFrame` in one go.\n",
    "This way, we can easily call the method on different files, which makes loading data much more convenient.\n",
    "Later on, I will copy this method into its own file, so I can import and reuse it on other days again."
   ]
  },
  {
   "cell_type": "code",
   "execution_count": null,
   "metadata": {},
   "outputs": [],
   "source": [
    "def read_dresden_csv(file_path: str | Path, geometry_column: str, srid: int=4326) -> gpd.GeoDataFrame:\n",
    "    df = pd.read_csv(file_path, delimiter=\";\", header=0)\n",
    "    df[geometry_column] = gpd.GeoSeries.from_wkt(\n",
    "                df[geometry_column].str.removeprefix(f\"SRID={srid};\")\n",
    "            )\n",
    "    return gpd.GeoDataFrame(\n",
    "        df,\n",
    "        geometry=geometry_column,\n",
    "        crs=f\"EPSG:{srid}\",\n",
    "    )"
   ]
  },
  {
   "cell_type": "markdown",
   "metadata": {},
   "source": [
    "Now, we can load today's data sets:"
   ]
  },
  {
   "cell_type": "code",
   "execution_count": null,
   "metadata": {},
   "outputs": [],
   "source": [
    "gdf_rivers = read_dresden_csv(\"data/dresden/fliessgewaesser.csv\", geometry_column=\"shape\")\n",
    "gdf_elbe = read_dresden_csv(\"data/dresden/elbe-stehende-gewaesser.csv\", geometry_column=\"shape\")\n",
    "gdf_standing = read_dresden_csv(\"data/dresden/stehende-gewaesser.csv\", geometry_column=\"shape\")\n",
    "\n",
    "gdf_city_boundary = read_dresden_csv(\"data/dresden/city_boundary.csv\", geometry_column=\"shape\")\n",
    "gdf_streets = read_dresden_csv(\"data/dresden/verkehrswege.csv\", geometry_column=\"shape\")"
   ]
  },
  {
   "cell_type": "markdown",
   "metadata": {},
   "source": [
    "Today, I will create a static, non-interactive plot:"
   ]
  },
  {
   "cell_type": "code",
   "execution_count": null,
   "metadata": {},
   "outputs": [],
   "source": [
    "fig, ax = plt.subplots(1, 1, figsize=(15,15))\n",
    "\n",
    "background_color = \"#646464\"\n",
    "water_color = \"#86c5db\"\n",
    "\n",
    "ax.set_facecolor(background_color)\n",
    "\n",
    "gdf_city_boundary[\"shape\"].plot(color=\"black\", ax=ax)\n",
    "gdf_streets[\"shape\"].plot(color=background_color, ax=ax, linewidth=1)\n",
    "\n",
    "gdf_rivers[\"shape\"].plot(ax=ax, color=water_color, linewidth=2)\n",
    "gdf_elbe[\"shape\"].plot(ax=ax, color=water_color)\n",
    "gdf_standing[\"shape\"].plot(ax=ax, color=water_color)\n",
    "\n",
    "plt.xticks([])\n",
    "plt.yticks([])\n",
    "\n",
    "plt.show()"
   ]
  }
 ],
 "metadata": {
  "kernelspec": {
   "display_name": "30daymapchallenge",
   "language": "python",
   "name": "python3"
  },
  "language_info": {
   "codemirror_mode": {
    "name": "ipython",
    "version": 3
   },
   "file_extension": ".py",
   "mimetype": "text/x-python",
   "name": "python",
   "nbconvert_exporter": "python",
   "pygments_lexer": "ipython3",
   "version": "3.12.7"
  }
 },
 "nbformat": 4,
 "nbformat_minor": 2
}
