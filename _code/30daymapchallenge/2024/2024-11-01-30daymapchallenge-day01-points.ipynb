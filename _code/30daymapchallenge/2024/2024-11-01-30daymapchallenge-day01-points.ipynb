{
 "cells": [
  {
   "cell_type": "markdown",
   "metadata": {},
   "source": [
    "---\n",
    "title: \"30 Day Map Challenge 2024 - Day 1: Points\"\n",
    "categories:\n",
    "  - Project\n",
    "tags:\n",
    "  - 30daymapchallenge\n",
    "  - python\n",
    "  - programming\n",
    "classes: wide\n",
    "header:\n",
    "  teaser: /assets/images/30daymapchallenge2024-day1.png\n",
    "---"
   ]
  },
  {
   "cell_type": "markdown",
   "metadata": {},
   "source": [
    "This is day one of the 2024 [#30daymapchallenge](https://30daymapchallenge.com/), a _\"Daily social mapping project happening every November.\"_\n",
    "\n",
    "The theme of the first day is _Points_:\n",
    "> A map with points. Start the challenge with points. Show individual locations - anything from cities to trees or more abstract concepts. Simple, but a key part of the challenge.\n",
    "\n",
    "### Overall Topic\n",
    "This year, I select an additional overall topic and therefore will focus on my home area: The city of [Dresden](https://wikipedia.org/wiki/Dresden), and the state of [Saxony](https://wikipedia.org/wiki/Sachsen).\n",
    "I will try to base all my work on this or at least try to find some connection to those areas.\n",
    "\n",
    "### Data\n",
    "Dresden provides an open data platform, which I only heard of, so far.\n",
    "Therefore, I will take the chance and explore the different datasets provided at the [Dresden OpenDataPortal](https://opendata.dresden.de) during the course of this challenge.\n",
    "\n",
    "For today, I selected a simple example, which I think is very suitable for a mapping theme: The locations of all so-called _[Nagelsche Säulen](https://opendata.dresden.de/informationsportal/?open=1&result=8A18FA37AE2044B3BE7A9EA317C411E9#app/mainpage)_ in Saxony.\n",
    "Those stone pillars are named after [Christian August Nagel](https://de.wikipedia.org/wiki/Christian_August_Nagel), a professor for geodesy, who led the surveying of the Kingdom of Saxony between 1862 bis 1890.\n"
   ]
  },
  {
   "cell_type": "markdown",
   "metadata": {},
   "source": [
    "## Implementation\n",
    "To create the maps for this year's challenge, I will resort to doing it programmatically using Python and some specific mapping and visualisation libraries.\n",
    "\n",
    "In my day-to-day job, I use pandas regularly for data handling, but I have little to no experience with mapping libraries.\n",
    "I found that there are a lot of options available, all having specific advantages and disadvantages.\n",
    "After going through a few review articles that give some ideas of the differences and individualities, I decided to give [folium](https://python-visualization.github.io/folium) a try.\n",
    "This library allows to create appealing, interactive maps.\n",
    "\n",
    "Now, let's get started with creating the first map for this year's #30daymapchallenge.\n",
    "\n",
    "First, we need to import some libraries:"
   ]
  },
  {
   "cell_type": "code",
   "execution_count": null,
   "metadata": {},
   "outputs": [],
   "source": [
    "from pathlib import Path\n",
    "\n",
    "import folium\n",
    "import geopandas as gpd\n",
    "import pandas as pd"
   ]
  },
  {
   "cell_type": "markdown",
   "metadata": {},
   "source": [
    "Now, the data has to be loaded from the CSV file that I alread downloaded."
   ]
  },
  {
   "cell_type": "code",
   "execution_count": null,
   "metadata": {},
   "outputs": [],
   "source": [
    "data_path = Path(\"data/dresden/nagelsche_saeulen.csv\")\n",
    "df = pd.read_csv(data_path, delimiter=\";\", header=0)"
   ]
  },
  {
   "cell_type": "markdown",
   "metadata": {},
   "source": [
    "The data contains a column `\"geom\"` that holds each pillar's coordinates in _[Well Known Text](https://en.wikipedia.org/wiki/Well-known_text_representation_of_geometry)_ format.\n",
    "Specifically, the format is an extended version of WKT that additionally contains the _[spatial reference system identifier](https://en.wikipedia.org/wiki/Spatial_reference_system#Identifier) (SRID)_.\n",
    "For our data, it indicates that coordinates are given with respect to the [WGS 84](https://en.wikipedia.org/wiki/World_Geodetic_System) reference coordinate system.\n",
    "However, this information has to be stripped to transform the column into classic WKT format.\n",
    "\n",
    "Afterwards, we can transfrom the pandas `DataFrame` into a `GeoDataFrame`, as follows:"
   ]
  },
  {
   "cell_type": "code",
   "execution_count": null,
   "metadata": {},
   "outputs": [],
   "source": [
    "gdf = gpd.GeoDataFrame(\n",
    "    df.assign(\n",
    "        geometry=lambda df: gpd.GeoSeries.from_wkt(\n",
    "            df[\"geom\"].str.removeprefix(\"SRID=4326;\")\n",
    "        )\n",
    "    ),\n",
    "    geometry=\"geometry\",\n",
    "    crs=\"EPSG:4326\",\n",
    ")"
   ]
  },
  {
   "cell_type": "markdown",
   "metadata": {},
   "source": [
    "Now that the data is prepared, we can start visualising it and build the actual map.\n",
    "As stated initially, I will get in touch with folium for the first time now.\n",
    "\n",
    "First, we need to create a map object.\n",
    "In my opinion, the default OpenStreetMap tiles are very busy and cluttered with loads of details.\n",
    "I like the [CartoDB tiles](https://carto.com/basemaps) with _Positron_ style, which are much cleaner.\n",
    "\n",
    "Plotting the data using folium is straightforward when it has been transformed into a `GeoDataFrame`, as shown above.\n",
    "I also added a popup, which contains the name of the pillar when a marker on the map is selected.\n",
    "\n",
    "Finally, the map is fitted so that it shows all the locations, we added."
   ]
  },
  {
   "cell_type": "code",
   "execution_count": null,
   "metadata": {},
   "outputs": [],
   "source": [
    "map = folium.Map(tiles=\"CartoDB positron\")\n",
    "\n",
    "folium.GeoJson(\n",
    "    gdf,\n",
    "    popup=folium.GeoJsonPopup([\"name\"]),\n",
    ").add_to(map)\n",
    "map.fit_bounds(map.get_bounds())\n",
    "map"
   ]
  }
 ],
 "metadata": {
  "kernelspec": {
   "display_name": "30daymapchallenge",
   "language": "python",
   "name": "python3"
  },
  "language_info": {
   "codemirror_mode": {
    "name": "ipython",
    "version": 3
   },
   "file_extension": ".py",
   "mimetype": "text/x-python",
   "name": "python",
   "nbconvert_exporter": "python",
   "pygments_lexer": "ipython3",
   "version": "3.12.7"
  }
 },
 "nbformat": 4,
 "nbformat_minor": 2
}
